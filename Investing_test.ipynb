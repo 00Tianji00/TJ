{
 "cells": [
  {
   "cell_type": "code",
   "execution_count": 1,
   "metadata": {},
   "outputs": [],
   "source": [
    "# -*- coding: utf-8 -*-\n",
    "import urllib\n",
    "import requests\n",
    "import time\n",
    "import pandas as pd\n",
    "from bs4 import BeautifulSoup"
   ]
  },
  {
   "cell_type": "code",
   "execution_count": 2,
   "metadata": {},
   "outputs": [],
   "source": [
    "url = \"https://hk.investing.com/indices/indices-futures\"\n",
    "headers = {'User-agent': 'Mozilla/5.0'}\n",
    "request = urllib.request.Request(url=url, headers=headers)"
   ]
  },
  {
   "cell_type": "code",
   "execution_count": 3,
   "metadata": {},
   "outputs": [
    {
     "name": "stdout",
     "output_type": "stream",
     "text": [
      "程序執行時間(秒): 5.140293836593628\n"
     ]
    }
   ],
   "source": [
    "start = time.time()\n",
    "\n",
    "html = urllib.request.urlopen(request).read()\n",
    "soup = BeautifulSoup(html, 'html.parser')\n",
    "\n",
    "end = time.time()\n",
    "print('程序執行時間(秒):',end - start)"
   ]
  },
  {
   "cell_type": "code",
   "execution_count": 4,
   "metadata": {},
   "outputs": [
    {
     "data": {
      "text/html": [
       "<div>\n",
       "<style scoped>\n",
       "    .dataframe tbody tr th:only-of-type {\n",
       "        vertical-align: middle;\n",
       "    }\n",
       "\n",
       "    .dataframe tbody tr th {\n",
       "        vertical-align: top;\n",
       "    }\n",
       "\n",
       "    .dataframe thead th {\n",
       "        text-align: right;\n",
       "    }\n",
       "</style>\n",
       "<table border=\"1\" class=\"dataframe\">\n",
       "  <thead>\n",
       "    <tr style=\"text-align: right;\">\n",
       "      <th></th>\n",
       "      <th></th>\n",
       "      <th>指數</th>\n",
       "      <th>月</th>\n",
       "      <th>最新</th>\n",
       "      <th>高</th>\n",
       "      <th>低</th>\n",
       "      <th>升跌幅</th>\n",
       "      <th>升跌幅%</th>\n",
       "      <th>時間</th>\n",
       "      <th></th>\n",
       "    </tr>\n",
       "  </thead>\n",
       "  <tbody>\n",
       "    <tr>\n",
       "      <th>0</th>\n",
       "      <td></td>\n",
       "      <td>香港40</td>\n",
       "      <td>2019年7月</td>\n",
       "      <td>28,103.5</td>\n",
       "      <td>28,441.5</td>\n",
       "      <td>28,033.5</td>\n",
       "      <td>-318.5</td>\n",
       "      <td>-1.12%</td>\n",
       "      <td>21:50:42</td>\n",
       "      <td></td>\n",
       "    </tr>\n",
       "    <tr>\n",
       "      <th>1</th>\n",
       "      <td></td>\n",
       "      <td>中国H股</td>\n",
       "      <td></td>\n",
       "      <td>10,740.5</td>\n",
       "      <td>10,913.0</td>\n",
       "      <td>10,698.0</td>\n",
       "      <td>-136.5</td>\n",
       "      <td>-1.25%</td>\n",
       "      <td>16:14:55</td>\n",
       "      <td></td>\n",
       "    </tr>\n",
       "    <tr>\n",
       "      <th>2</th>\n",
       "      <td></td>\n",
       "      <td>新华富时A50</td>\n",
       "      <td>2019年7月</td>\n",
       "      <td>13,322.5</td>\n",
       "      <td>13,599.0</td>\n",
       "      <td>13,184.0</td>\n",
       "      <td>-160.0</td>\n",
       "      <td>-1.19%</td>\n",
       "      <td>21:50:41</td>\n",
       "      <td></td>\n",
       "    </tr>\n",
       "    <tr>\n",
       "      <th>3</th>\n",
       "      <td></td>\n",
       "      <td>滬深300</td>\n",
       "      <td>2019年5月</td>\n",
       "      <td>3,769.60</td>\n",
       "      <td>3,814.00</td>\n",
       "      <td>3,725.60</td>\n",
       "      <td>0.00</td>\n",
       "      <td>0.00%</td>\n",
       "      <td>13:00:00</td>\n",
       "      <td></td>\n",
       "    </tr>\n",
       "    <tr>\n",
       "      <th>4</th>\n",
       "      <td></td>\n",
       "      <td>道琼斯30</td>\n",
       "      <td>2019年9月</td>\n",
       "      <td>26,683.5</td>\n",
       "      <td>26,825.5</td>\n",
       "      <td>26,667.5</td>\n",
       "      <td>-78.5</td>\n",
       "      <td>-0.29%</td>\n",
       "      <td>21:50:39</td>\n",
       "      <td></td>\n",
       "    </tr>\n",
       "  </tbody>\n",
       "</table>\n",
       "</div>"
      ],
      "text/plain": [
       "          指數        月        最新         高         低     升跌幅    升跌幅%        時間  \\\n",
       "0       香港40  2019年7月  28,103.5  28,441.5  28,033.5  -318.5  -1.12%  21:50:42   \n",
       "1       中国H股           10,740.5  10,913.0  10,698.0  -136.5  -1.25%  16:14:55   \n",
       "2    新华富时A50  2019年7月  13,322.5  13,599.0  13,184.0  -160.0  -1.19%  21:50:41   \n",
       "3      滬深300  2019年5月  3,769.60  3,814.00  3,725.60    0.00   0.00%  13:00:00   \n",
       "4      道琼斯30  2019年9月  26,683.5  26,825.5  26,667.5   -78.5  -0.29%  21:50:39   \n",
       "\n",
       "     \n",
       "0    \n",
       "1    \n",
       "2    \n",
       "3    \n",
       "4    "
      ]
     },
     "execution_count": 4,
     "metadata": {},
     "output_type": "execute_result"
    }
   ],
   "source": [
    "table = soup.find('table', {'class': 'genTbl closedTbl crossRatesTbl'})\n",
    "columns = [th.text.replace('\\n', '') for th in table.find('tr').find_all('th')]\n",
    "\n",
    "trs = table.find_all('tr')[1:]\n",
    "rows = list()\n",
    "for tr in trs:\n",
    "    rows.append([td.text.replace('\\n', '').replace('\\xa0', '') for td in tr.find_all('td')])\n",
    "        \n",
    "df = pd.DataFrame(data=rows, columns=columns)\n",
    "df.head(5)"
   ]
  }
 ],
 "metadata": {
  "kernelspec": {
   "display_name": "Python 3",
   "language": "python",
   "name": "python3"
  },
  "language_info": {
   "codemirror_mode": {
    "name": "ipython",
    "version": 3
   },
   "file_extension": ".py",
   "mimetype": "text/x-python",
   "name": "python",
   "nbconvert_exporter": "python",
   "pygments_lexer": "ipython3",
   "version": "3.7.3"
  }
 },
 "nbformat": 4,
 "nbformat_minor": 2
}
